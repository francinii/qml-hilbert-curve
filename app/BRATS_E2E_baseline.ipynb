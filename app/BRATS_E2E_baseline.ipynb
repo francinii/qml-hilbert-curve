{
 "cells": [
  {
   "cell_type": "markdown",
   "id": "9f286934",
   "metadata": {},
   "source": [
    "# Análisis exploratorio y baseline clásico – Brain Tumor (BRATS)\n",
    "Este notebook realiza un pequeño *pipeline* completo con:\n",
    "1. **Carga de los volúmenes** (`imagesTr` y `labelsTr`).\n",
    "2. **Exploración básica** (dimensiones, conteo de clases por *slice*, visualización de ejemplos).\n",
    "3. **Pre‑procesamiento**\n",
    "   * Normalización a `[0,1]`.\n",
    "   * Redimensionado a `64×64` por *slice*.\n",
    "   * Conversión de volúmenes 3‑D en un conjunto de *slices* 2‑D etiquetadas.\n",
    "4. **Balanceo simple** mediante *undersampling* de la clase mayoritaria.\n",
    "5. **Baseline clásico** (`PCA` → `LogisticRegression`).\n",
    "\n",
    "> **NOTA**: todo el flujo es **clásico**. Luego podrías sustituir la etapa 5 por un circuito de QML con el *embedding* que prefieras (Angle, Hilbert, etc.)."
   ]
  },
  {
   "cell_type": "markdown",
   "id": "bd881fad",
   "metadata": {},
   "source": [
    "## 0. Dependencias\n",
    "Ejecuta la celda siguiente para instalar paquetes que falten en tu entorno (solo la primera vez):"
   ]
  },
  {
   "cell_type": "code",
   "execution_count": 1,
   "id": "cc9f6d2c",
   "metadata": {},
   "outputs": [],
   "source": [
    "!pip install -q nibabel scikit-image scikit-learn tqdm"
   ]
  },
  {
   "cell_type": "markdown",
   "id": "c09fb28b",
   "metadata": {},
   "source": [
    "## 1. Carga de rutas y utilidades"
   ]
  },
  {
   "cell_type": "code",
   "execution_count": 2,
   "id": "e05744d2",
   "metadata": {},
   "outputs": [
    {
     "name": "stdout",
     "output_type": "stream",
     "text": [
      "Encontradas 484 imágenes en data\\imagesTr\n"
     ]
    }
   ],
   "source": [
    "import os, glob, numpy as np, nibabel as nib, matplotlib.pyplot as plt\n",
    "from skimage.transform import resize\n",
    "from sklearn.model_selection import train_test_split\n",
    "from sklearn.decomposition import PCA\n",
    "from sklearn.linear_model import LogisticRegression\n",
    "from sklearn.metrics import classification_report, confusion_matrix\n",
    "from collections import Counter\n",
    "from tqdm import tqdm\n",
    "import seaborn as sns\n",
    "\n",
    "DATA_DIR = 'data'              # ajusta según tu árbol\n",
    "IMG_DIR  = os.path.join(DATA_DIR, 'imagesTr')\n",
    "MASK_DIR = os.path.join(DATA_DIR, 'labelsTr')\n",
    "\n",
    "def is_valid(fname):\n",
    "    \"\"\"Descarta archivos ocultos de macOS (._*) y comprueba extensión .nii o .nii.gz\"\"\"\n",
    "    return (fname.endswith('.nii') or fname.endswith('.nii.gz')) and not fname.startswith('._')\n",
    "\n",
    "image_files = sorted([f for f in os.listdir(IMG_DIR) if is_valid(f)])\n",
    "print(f'Encontradas {len(image_files)} imágenes en {IMG_DIR}')"
   ]
  },
  {
   "cell_type": "markdown",
   "id": "ef05c047",
   "metadata": {},
   "source": [
    "### Funciones helper para cargar volúmenes y extraer *slices*"
   ]
  },
  {
   "cell_type": "code",
   "execution_count": 3,
   "id": "540c1d1b",
   "metadata": {},
   "outputs": [],
   "source": [
    "def load_pair(image_fname):\n",
    "    \"\"\"Devuelve (volumen_img, volumen_mask) como floats.\"\"\"\n",
    "    img_path  = os.path.join(IMG_DIR, image_fname)\n",
    "    mask_path = os.path.join(MASK_DIR, image_fname)         # mismo nombre\n",
    "    img  = nib.load(img_path).get_fdata().astype(np.float32)\n",
    "    mask = nib.load(mask_path).get_fdata().astype(np.float32)\n",
    "    return img, mask\n",
    "\n",
    "def extract_slices(img, mask, axis=2, step=1, resize_to=(64,64)):\n",
    "    \"\"\"Convierte un volumen 3‑D en lista de (x_slice, y_label).\n",
    "\"\n",
    "    La etiqueta será 1 si existe algún voxel positivo en la máscara.\"\"\"\n",
    "    slices, labels = [], []\n",
    "    for idx in range(0, img.shape[axis], step):\n",
    "        if axis==0:\n",
    "            img_sl, mask_sl = img[idx,:,:], mask[idx,:,:]\n",
    "        elif axis==1:\n",
    "            img_sl, mask_sl = img[:,idx,:], mask[:,idx,:]\n",
    "        else:\n",
    "            img_sl, mask_sl = img[:,:,idx], mask[:,:,idx]\n",
    "        label = 1 if np.any(mask_sl) else 0\n",
    "        # escala 0‑1 y resize\n",
    "        img_sl = (img_sl - img_sl.min()) / (np.ptp(img_sl) + 1e-8)\n",
    "\n",
    "        img_sl = resize(img_sl, resize_to, mode='reflect', anti_aliasing=True)\n",
    "        slices.append(img_sl.astype(np.float32))\n",
    "        labels.append(label)\n",
    "    return slices, labels\n"
   ]
  },
  {
   "cell_type": "markdown",
   "id": "4c967a7c",
   "metadata": {},
   "source": [
    "## 2. Exploración rápida"
   ]
  },
  {
   "cell_type": "code",
   "execution_count": 4,
   "id": "2f01d33e",
   "metadata": {},
   "outputs": [
    {
     "name": "stderr",
     "output_type": "stream",
     "text": [
      "Extrayendo slices: 100%|██████████| 484/484 [05:21<00:00,  1.50it/s]\n"
     ]
    },
    {
     "name": "stdout",
     "output_type": "stream",
     "text": [
      "Total slices: (37752, 64, 64, 4) positivos: 16882\n"
     ]
    },
    {
     "data": {
      "image/png": "[encoded data removed]",
      "text/plain": [
       "<Figure size 640x480 with 1 Axes>"
      ]
     },
     "metadata": {},
     "output_type": "display_data"
    },
    {
     "name": "stdout",
     "output_type": "stream",
     "text": [
      "Total slices: (37752, 64, 64, 4) positivos: 16882\n"
     ]
    },
    {
     "data": {
      "image/png": "[encoded data removed]",
      "text/plain": [
       "<Figure size 1200x300 with 4 Axes>"
      ]
     },
     "metadata": {},
     "output_type": "display_data"
    }
   ],
   "source": [
    "all_slices, all_labels = [], []\n",
    "for f in tqdm(image_files, desc='Extrayendo slices'):\n",
    "    img, mask = load_pair(f)\n",
    "    sl, la = extract_slices(img, mask, axis=2, step=2)  # toma 1 de cada 2 para aligerar\n",
    "    all_slices.extend(sl)\n",
    "    all_labels.extend(la)\n",
    "all_slices = np.stack(all_slices)          # [N, H, W]\n",
    "all_labels = np.array(all_labels)\n",
    "print('Total slices:', all_slices.shape, 'positivos:', all_labels.sum())\n",
    "\n",
    "# Distribución\n",
    "sns.countplot(x=all_labels)\n",
    "plt.title('Distribución de clases (slice-level)')\n",
    "plt.show()\n",
    "\n",
    "# Mostrar ejemplos\n",
    "fig, ax = plt.subplots(1,4, figsize=(12,3))\n",
    "pos_indices = np.where(all_labels==1)[0][:4]\n",
    "for i,idx in enumerate(pos_indices):\n",
    "    ax[i].imshow(all_slices[idx], cmap='gray')\n",
    "    ax[i].set_title('tumor')\n",
    "    ax[i].axis('off')\n",
    "plt.tight_layout()\n",
    "\n",
    "print('Total slices:', all_slices.shape, 'positivos:', all_labels.sum())\n"
   ]
  },
  {
   "cell_type": "markdown",
   "id": "774ba1c3",
   "metadata": {},
   "source": [
    "## 3. Balanceo (undersampling) y split"
   ]
  },
  {
   "cell_type": "code",
   "execution_count": 1,
   "id": "abc96295",
   "metadata": {},
   "outputs": [
    {
     "ename": "NameError",
     "evalue": "name 'all_slices' is not defined",
     "output_type": "error",
     "traceback": [
      "\u001b[31m---------------------------------------------------------------------------\u001b[39m",
      "\u001b[31mNameError\u001b[39m                                 Traceback (most recent call last)",
      "\u001b[36mCell\u001b[39m\u001b[36m \u001b[39m\u001b[32mIn[1]\u001b[39m\u001b[32m, line 4\u001b[39m\n\u001b[32m      1\u001b[39m \u001b[38;5;28;01mfrom\u001b[39;00m\u001b[38;5;250m \u001b[39m\u001b[34;01mimblearn\u001b[39;00m\u001b[34;01m.\u001b[39;00m\u001b[34;01munder_sampling\u001b[39;00m\u001b[38;5;250m \u001b[39m\u001b[38;5;28;01mimport\u001b[39;00m RandomUnderSampler\n\u001b[32m      3\u001b[39m \u001b[38;5;66;03m# Aplanar cada slice\u001b[39;00m\n\u001b[32m----> \u001b[39m\u001b[32m4\u001b[39m X = \u001b[43mall_slices\u001b[49m.reshape(\u001b[38;5;28mlen\u001b[39m(all_slices), -\u001b[32m1\u001b[39m)\n\u001b[32m      5\u001b[39m y = all_labels\n\u001b[32m      7\u001b[39m rus = RandomUnderSampler(random_state=\u001b[32m42\u001b[39m)\n",
      "\u001b[31mNameError\u001b[39m: name 'all_slices' is not defined"
     ]
    }
   ],
   "source": [
    "from imblearn.under_sampling import RandomUnderSampler\n",
    "\n",
    "# Aplanar cada slice\n",
    "X = all_slices.reshape(len(all_slices), -1)\n",
    "y = all_labels\n",
    "\n",
    "rus = RandomUnderSampler(random_state=42)\n",
    "X_bal, y_bal = rus.fit_resample(X, y)\n",
    "print('Tras balanceo:', Counter(y_bal))\n",
    "\n",
    "X_train, X_test, y_train, y_test = train_test_split(\n",
    "    X_bal, y_bal, test_size=0.2, random_state=42, stratify=y_bal)\n",
    "print(X_train.shape, X_test.shape)\n"
   ]
  },
  {
   "cell_type": "markdown",
   "id": "247a8039",
   "metadata": {},
   "source": [
    "## 4. Reducción de dimensionalidad con PCA"
   ]
  },
  {
   "cell_type": "code",
   "execution_count": null,
   "id": "cf6516cb",
   "metadata": {},
   "outputs": [],
   "source": [
    "pca = PCA(n_components=0.95, svd_solver='full')  # conserva 95% varianza\n",
    "X_train_pca = pca.fit_transform(X_train)\n",
    "X_test_pca  = pca.transform(X_test)\n",
    "print('Shape tras PCA:', X_train_pca.shape)\n"
   ]
  },
  {
   "cell_type": "markdown",
   "id": "5c5ea2d2",
   "metadata": {},
   "source": [
    "## 5. Clasificador baseline (LogisticRegression)"
   ]
  },
  {
   "cell_type": "code",
   "execution_count": null,
   "id": "0601bdb8",
   "metadata": {},
   "outputs": [],
   "source": [
    "clf = LogisticRegression(max_iter=2000)\n",
    "clf.fit(X_train_pca, y_train)\n",
    "y_pred = clf.predict(X_test_pca)\n",
    "print(classification_report(y_test, y_pred))\n",
    "sns.heatmap(confusion_matrix(y_test, y_pred), annot=True, fmt='d')\n",
    "plt.title('Matriz de confusión')\n",
    "plt.show()\n"
   ]
  },
  {
   "cell_type": "markdown",
   "id": "b89b0be6",
   "metadata": {},
   "source": [
    "## 6. Próximos pasos  \n",
    "* Sustituir la etapa 5 por un **circuito cuántico** (VQC o QSVM).  \n",
    "* Explorar distintos *embeddings* (angle, Hilbert‑curve, data re‑uploading, etc.).  \n",
    "* Afinar la selección de *slices* (multi‑eje, 3‑D patches, etc.).  \n",
    "* Añadir técnicas de *data augmentation* y/o balanceo avanzado."
   ]
  }
 ],
 "metadata": {
  "kernelspec": {
   "display_name": ".venv",
   "language": "python",
   "name": "python3"
  },
  "language_info": {
   "codemirror_mode": {
    "name": "ipython",
    "version": 3
   },
   "file_extension": ".py",
   "mimetype": "text/x-python",
   "name": "python",
   "nbconvert_exporter": "python",
   "pygments_lexer": "ipython3",
   "version": "3.12.8"
  }
 },
 "nbformat": 4,
 "nbformat_minor": 5
}
